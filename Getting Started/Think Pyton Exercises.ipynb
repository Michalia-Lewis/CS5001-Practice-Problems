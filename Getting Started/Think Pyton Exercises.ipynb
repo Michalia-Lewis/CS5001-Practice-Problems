{
 "cells": [
  {
   "cell_type": "markdown",
   "id": "fb9b0cd1",
   "metadata": {},
   "source": [
    "# Think Python (Optional Reading)"
   ]
  },
  {
   "cell_type": "markdown",
   "id": "1beb9948",
   "metadata": {},
   "source": [
    "Exercises from Chapters 1 & 2 in the book Think Python by Allen Downey"
   ]
  },
  {
   "cell_type": "markdown",
   "id": "fb262b37",
   "metadata": {},
   "source": [
    "### 1.9 Exercises"
   ]
  },
  {
   "cell_type": "markdown",
   "id": "11d6697a",
   "metadata": {},
   "source": [
    "*Exercise 1.1. It is a good idea to read this book in front of a computer so you can try out the examples as you go.*"
   ]
  },
  {
   "cell_type": "code",
   "execution_count": null,
   "id": "e2981777",
   "metadata": {},
   "outputs": [
    {
     "ename": "SyntaxError",
     "evalue": "'(' was never closed (3296941997.py, line 2)",
     "output_type": "error",
     "traceback": [
      "  \u001b[36mCell\u001b[39m\u001b[36m \u001b[39m\u001b[32mIn[2]\u001b[39m\u001b[32m, line 2\u001b[39m\n\u001b[31m    \u001b[39m\u001b[31mprint(\"Hello, World!\"  # Missing closing parenthesis\u001b[39m\n         ^\n\u001b[31mSyntaxError\u001b[39m\u001b[31m:\u001b[39m '(' was never closed\n"
     ]
    }
   ],
   "source": [
    "# 1. In a print statement, what happens if you leave out one of the parentheses, or both?\n",
    "print(\"Hello, World!\"  # Missing closing parenthesis"
   ]
  },
  {
   "cell_type": "code",
   "execution_count": 4,
   "id": "b989ae42",
   "metadata": {},
   "outputs": [
    {
     "ename": "SyntaxError",
     "evalue": "Missing parentheses in call to 'print'. Did you mean print(...)? (3432322239.py, line 2)",
     "output_type": "error",
     "traceback": [
      "  \u001b[36mCell\u001b[39m\u001b[36m \u001b[39m\u001b[32mIn[4]\u001b[39m\u001b[32m, line 2\u001b[39m\n\u001b[31m    \u001b[39m\u001b[31mprint \"Hello, World!\"  # Missing both parentheses\u001b[39m\n    ^\n\u001b[31mSyntaxError\u001b[39m\u001b[31m:\u001b[39m Missing parentheses in call to 'print'. Did you mean print(...)?\n"
     ]
    }
   ],
   "source": [
    "# or both?\n",
    "print \"Hello, World!\"  # Missing both parentheses"
   ]
  },
  {
   "cell_type": "code",
   "execution_count": 5,
   "id": "0169536e",
   "metadata": {},
   "outputs": [
    {
     "ename": "SyntaxError",
     "evalue": "unterminated string literal (detected at line 2) (2861262193.py, line 2)",
     "output_type": "error",
     "traceback": [
      "  \u001b[36mCell\u001b[39m\u001b[36m \u001b[39m\u001b[32mIn[5]\u001b[39m\u001b[32m, line 2\u001b[39m\n\u001b[31m    \u001b[39m\u001b[31mprint('Hello world!)\u001b[39m\n          ^\n\u001b[31mSyntaxError\u001b[39m\u001b[31m:\u001b[39m unterminated string literal (detected at line 2)\n"
     ]
    }
   ],
   "source": [
    "# 2. If you are trying to print a string, what happens if you leave out one of the quotation marks, or both?\n",
    "print('Hello world!)"
   ]
  },
  {
   "cell_type": "code",
   "execution_count": 6,
   "id": "fde2966d",
   "metadata": {},
   "outputs": [
    {
     "ename": "SyntaxError",
     "evalue": "invalid syntax. Perhaps you forgot a comma? (45103631.py, line 2)",
     "output_type": "error",
     "traceback": [
      "  \u001b[36mCell\u001b[39m\u001b[36m \u001b[39m\u001b[32mIn[6]\u001b[39m\u001b[32m, line 2\u001b[39m\n\u001b[31m    \u001b[39m\u001b[31mprint(Hello World!)\u001b[39m\n          ^\n\u001b[31mSyntaxError\u001b[39m\u001b[31m:\u001b[39m invalid syntax. Perhaps you forgot a comma?\n"
     ]
    }
   ],
   "source": [
    "# , or both?\n",
    "print(Hello World!)"
   ]
  },
  {
   "cell_type": "code",
   "execution_count": 14,
   "id": "8acb9aae",
   "metadata": {},
   "outputs": [
    {
     "name": "stdout",
     "output_type": "stream",
     "text": [
      "2\n"
     ]
    }
   ],
   "source": [
    "# 3. You can use a minus sign to make a negative number like-2. What happens if you put a plus sign before a number? What about 2++2?\n",
    "print(+2)"
   ]
  },
  {
   "cell_type": "code",
   "execution_count": 13,
   "id": "305e0ecb",
   "metadata": {},
   "outputs": [
    {
     "name": "stdout",
     "output_type": "stream",
     "text": [
      "4\n"
     ]
    }
   ],
   "source": [
    "# What about 2++2?\n",
    "print(2++2)"
   ]
  },
  {
   "cell_type": "code",
   "execution_count": 15,
   "id": "d92979b3",
   "metadata": {},
   "outputs": [
    {
     "ename": "SyntaxError",
     "evalue": "leading zeros in decimal integer literals are not permitted; use an 0o prefix for octal integers (1409684445.py, line 2)",
     "output_type": "error",
     "traceback": [
      "  \u001b[36mCell\u001b[39m\u001b[36m \u001b[39m\u001b[32mIn[15]\u001b[39m\u001b[32m, line 2\u001b[39m\n\u001b[31m    \u001b[39m\u001b[31mprint(09)\u001b[39m\n          ^\n\u001b[31mSyntaxError\u001b[39m\u001b[31m:\u001b[39m leading zeros in decimal integer literals are not permitted; use an 0o prefix for octal integers\n"
     ]
    }
   ],
   "source": [
    "# 4. In math notation, leading zeros are ok, as in 09. What happens if you try this in Python? What about 011?\n",
    "print(09)\n",
    "print(011)"
   ]
  },
  {
   "cell_type": "code",
   "execution_count": 17,
   "id": "76304aea",
   "metadata": {},
   "outputs": [
    {
     "ename": "SyntaxError",
     "evalue": "invalid syntax. Perhaps you forgot a comma? (160272335.py, line 2)",
     "output_type": "error",
     "traceback": [
      "  \u001b[36mCell\u001b[39m\u001b[36m \u001b[39m\u001b[32mIn[17]\u001b[39m\u001b[32m, line 2\u001b[39m\n\u001b[31m    \u001b[39m\u001b[31mprint(2 5)\u001b[39m\n          ^\n\u001b[31mSyntaxError\u001b[39m\u001b[31m:\u001b[39m invalid syntax. Perhaps you forgot a comma?\n"
     ]
    }
   ],
   "source": [
    "# 5. What happens if you have two values with no operator between them?\n",
    "print(2 5)"
   ]
  },
  {
   "cell_type": "markdown",
   "id": "26bb4219",
   "metadata": {},
   "source": [
    "*Exercise 1.2. Start the Python interpreter and use it as a calculator.*"
   ]
  },
  {
   "cell_type": "code",
   "execution_count": 1,
   "id": "93d74786",
   "metadata": {},
   "outputs": [
    {
     "name": "stdout",
     "output_type": "stream",
     "text": [
      "2562\n",
      "2562\n"
     ]
    }
   ],
   "source": [
    "# 1. How many seconds are there in 42 minutes 42 seconds?\n",
    "Minutes = int(input('How many minutes?'))\n",
    "Seconds = int(input('How many seconds? '))\n",
    "Total = (Minutes * 60) + Seconds\n",
    "print(Total)\n",
    "\n",
    "sec = (42 * 60) + 42\n",
    "print(sec)"
   ]
  },
  {
   "cell_type": "code",
   "execution_count": 3,
   "id": "e3b85020",
   "metadata": {},
   "outputs": [
    {
     "name": "stdout",
     "output_type": "stream",
     "text": [
      "6.211180124223602\n"
     ]
    }
   ],
   "source": [
    "# 2. How many miles are there in 10 kilometers? Hint: there are 1.61 kilometers in a mile.\n",
    "Miles = 10 / 1.61\n",
    "print(Miles)"
   ]
  },
  {
   "cell_type": "code",
   "execution_count": 21,
   "id": "67bd3104",
   "metadata": {},
   "outputs": [
    {
     "name": "stdout",
     "output_type": "stream",
     "text": [
      "6.211180124223602\n",
      "0.14546089283896022 miles per minute\n",
      "42.7 total minutes\n",
      "6.874700000000002 minutes per mile\n",
      "52.48200000000012\n",
      "8.727653570337614 mph\n",
      "Pace = 6 minutes 52.5 seconds\n"
     ]
    }
   ],
   "source": [
    "# 3. If you run a 10 kilometer race in 42 minutes 42 seconds, what is your average pace (time per mile in minutes and seconds)? What is your average speed in miles per hour?\n",
    "print((10/1.61)) # km to m\n",
    "print((10/1.61) / (42 / 60 + 42), 'miles per minute') # miles per min\n",
    "print((42 / 60 + 42), 'total minutes') # total minutes\n",
    "print(42.7 / (10/1.61), 'minutes per mile') # minutes per mile\n",
    "print(0.874700000000002 * 60) # convert deciml from minutes per mile to seconds\n",
    "print((10/1.61) / (42 / 60 + 42) * 60, 'mph') # miles per hour\n",
    "print('Pace = 6 minutes 52.5 seconds')"
   ]
  },
  {
   "cell_type": "markdown",
   "id": "9cef8c4e",
   "metadata": {},
   "source": [
    "### 2.10 Exercises"
   ]
  },
  {
   "cell_type": "markdown",
   "id": "ad3f42a7",
   "metadata": {},
   "source": [
    "*Exercise 2.1. Repeating my advice from the previous chapter, whenever you learn a new feature, you should try it out in interactive mode and make errors on purpose to see what goes wrong.*"
   ]
  },
  {
   "cell_type": "code",
   "execution_count": 1,
   "id": "0b578a65",
   "metadata": {},
   "outputs": [
    {
     "ename": "SyntaxError",
     "evalue": "cannot assign to literal here. Maybe you meant '==' instead of '='? (4178982413.py, line 2)",
     "output_type": "error",
     "traceback": [
      "  \u001b[36mCell\u001b[39m\u001b[36m \u001b[39m\u001b[32mIn[1]\u001b[39m\u001b[32m, line 2\u001b[39m\n\u001b[31m    \u001b[39m\u001b[31m42 = n # illegal\u001b[39m\n    ^\n\u001b[31mSyntaxError\u001b[39m\u001b[31m:\u001b[39m cannot assign to literal here. Maybe you meant '==' instead of '='?\n"
     ]
    }
   ],
   "source": [
    "# We’ve seen that n = 42 is legal. What about 42 = n?\n",
    "42 = n # illegal\n",
    "print(42)"
   ]
  },
  {
   "cell_type": "code",
   "execution_count": null,
   "id": "a9506b8f",
   "metadata": {},
   "outputs": [
    {
     "name": "stdout",
     "output_type": "stream",
     "text": [
      "1\n",
      "1\n"
     ]
    }
   ],
   "source": [
    "# How about x = y = 1?\n",
    "x = y = 1 # legal\n",
    "print(x)\n",
    "print(y)"
   ]
  },
  {
   "cell_type": "code",
   "execution_count": null,
   "id": "4f76e59d",
   "metadata": {},
   "outputs": [
    {
     "name": "stdout",
     "output_type": "stream",
     "text": [
      "Michalia is Shu.\n"
     ]
    }
   ],
   "source": [
    "# In some languages every statement ends with a semi-colon, ;. What happens if you put a semi-colon at the end of a Python statement?\n",
    "print('Michalia is Shu.'); # legal"
   ]
  },
  {
   "cell_type": "code",
   "execution_count": null,
   "id": "ca0135d0",
   "metadata": {},
   "outputs": [
    {
     "ename": "SyntaxError",
     "evalue": "invalid syntax (951615597.py, line 2)",
     "output_type": "error",
     "traceback": [
      "  \u001b[36mCell\u001b[39m\u001b[36m \u001b[39m\u001b[32mIn[11]\u001b[39m\u001b[32m, line 2\u001b[39m\n\u001b[31m    \u001b[39m\u001b[31mprint('Michalia is Shu.'). # illegal\u001b[39m\n                               ^\n\u001b[31mSyntaxError\u001b[39m\u001b[31m:\u001b[39m invalid syntax\n"
     ]
    }
   ],
   "source": [
    "# What if you put a period at the end of a statement?\n",
    "print('Michalia is Shu.'). # illegal"
   ]
  },
  {
   "cell_type": "code",
   "execution_count": null,
   "id": "e2a59a01",
   "metadata": {},
   "outputs": [
    {
     "ename": "NameError",
     "evalue": "name 'xy' is not defined",
     "output_type": "error",
     "traceback": [
      "\u001b[31m---------------------------------------------------------------------------\u001b[39m",
      "\u001b[31mNameError\u001b[39m                                 Traceback (most recent call last)",
      "\u001b[36mCell\u001b[39m\u001b[36m \u001b[39m\u001b[32mIn[14]\u001b[39m\u001b[32m, line 3\u001b[39m\n\u001b[32m      1\u001b[39m \u001b[38;5;66;03m# In math notation you can multiply x and y like this: xy. What happens if you try that in Python?\u001b[39;00m\n\u001b[32m      2\u001b[39m \u001b[38;5;66;03m# y = xy # illegal\u001b[39;00m\n\u001b[32m----> \u001b[39m\u001b[32m3\u001b[39m \u001b[38;5;28mprint\u001b[39m(\u001b[43mxy\u001b[49m)\n",
      "\u001b[31mNameError\u001b[39m: name 'xy' is not defined"
     ]
    }
   ],
   "source": [
    "# In math notation you can multiply x and y like this: xy. What happens if you try that in Python?\n",
    "# y = xy # illegal\n",
    "print(xy) # illegal"
   ]
  },
  {
   "cell_type": "markdown",
   "id": "4e9010cf",
   "metadata": {},
   "source": [
    "*Exercise 2.2*"
   ]
  },
  {
   "cell_type": "code",
   "execution_count": null,
   "id": "50a912d2",
   "metadata": {},
   "outputs": [],
   "source": [
    "import math"
   ]
  },
  {
   "cell_type": "code",
   "execution_count": null,
   "id": "359ae298",
   "metadata": {},
   "outputs": [
    {
     "name": "stdout",
     "output_type": "stream",
     "text": [
      "523.5987755982989\n"
     ]
    }
   ],
   "source": [
    "# 1. The volume of a sphere with radius r is 4 3 r3. What is the volume of a sphere with radius 5?\n",
    "print((4/3) * math.pi * (5 ** 3))"
   ]
  },
  {
   "cell_type": "code",
   "execution_count": null,
   "id": "3e192634",
   "metadata": {},
   "outputs": [
    {
     "name": "stdout",
     "output_type": "stream",
     "text": [
      "$ 945.4499999999999\n"
     ]
    }
   ],
   "source": [
    "# 2. Suppose the cover price of a book is $24.95, but bookstores get a 40% discount. Shipping costs $3 for the first copy and 75 cents for each additional copy. What is the total wholesale cost for 60 copies?\n",
    "amount = int(input('How many copies are you ordering?'))\n",
    "cover_price = 24.95 * amount\n",
    "discount = (cover_price * 0.40)\n",
    "shipping_first_copy = 3\n",
    "ship_additional_copies = ((amount - 1) * 0.75)\n",
    "total = ((cover_price - discount) + shipping_first_copy + ship_additional_copies)\n",
    "print('$',total)"
   ]
  },
  {
   "cell_type": "code",
   "execution_count": null,
   "id": "6ad25df4",
   "metadata": {},
   "outputs": [
    {
     "name": "stdout",
     "output_type": "stream",
     "text": [
      "38.1\n"
     ]
    }
   ],
   "source": [
    "# 3. If I leave my house at 6:52 am and run 1 mile at an easy pace (8:15 per mile), then 3 miles at tempo (7:12 per mile) and 1 mile at easy pace again, what time do I get home for breakfast?\n",
    "first_pace = (8 * 60) + 15 # convert first mile time to seconds\n",
    "next_pace = ((7 * 60) + 12) * 3 # convert next 3 miles time to seconds\n",
    "last_pace = (8 * 60) + 15 # convert last mile time to seconds\n",
    "\n",
    "total_in_seconds = (first_pace + next_pace + last_pace)\n",
    "total_in_minutes = (total_in_seconds / 60)\n",
    "print(total_in_minutes)"
   ]
  }
 ],
 "metadata": {
  "kernelspec": {
   "display_name": "Python 3",
   "language": "python",
   "name": "python3"
  },
  "language_info": {
   "codemirror_mode": {
    "name": "ipython",
    "version": 3
   },
   "file_extension": ".py",
   "mimetype": "text/x-python",
   "name": "python",
   "nbconvert_exporter": "python",
   "pygments_lexer": "ipython3",
   "version": "3.13.7"
  }
 },
 "nbformat": 4,
 "nbformat_minor": 5
}
